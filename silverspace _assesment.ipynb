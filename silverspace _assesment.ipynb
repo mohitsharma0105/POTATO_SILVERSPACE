{
 "cells": [
  {
   "cell_type": "code",
   "execution_count": 15,
   "id": "8e0064bf-464a-4469-8165-fdf5f3ece645",
   "metadata": {},
   "outputs": [
    {
     "name": "stdout",
     "output_type": "stream",
     "text": [
      "                    id           event                               ts1  \\\n",
      "0  1358322479136178177  britney_202102  2022-03-01 09:06:52.403595-05:00   \n",
      "1  1358323016736796677  britney_202102  2022-01-05 08:34:04.477789-05:00   \n",
      "2  1358322996696465409  britney_202102  2022-03-01 09:06:52.399008-05:00   \n",
      "3  1358322976769286151  britney_202102  2022-03-01 09:06:52.399205-05:00   \n",
      "4  1368923802260889606  britney_202102  2022-03-01 07:26:05.505986-05:00   \n",
      "\n",
      "                                ts2  from_stream  directly_from_stream  \\\n",
      "0  2022-03-01 09:06:52.403595-05:00         True                  True   \n",
      "1  2022-03-01 09:06:52.398778-05:00         True                  True   \n",
      "2  2022-03-01 09:06:52.399008-05:00         True                  True   \n",
      "3  2022-03-01 09:06:52.399205-05:00         True                  True   \n",
      "4  2022-03-01 07:26:05.505986-05:00         True                  True   \n",
      "\n",
      "   from_search  directly_from_search  from_quote_search  \\\n",
      "0        False                 False              False   \n",
      "1        False                 False              False   \n",
      "2        False                 False              False   \n",
      "3        False                 False              False   \n",
      "4        False                 False              False   \n",
      "\n",
      "   directly_from_quote_search  ...     retweeted  retweeted_author_id  \\\n",
      "0                       False  ...  1.358249e+18         9.325937e+07   \n",
      "1                       False  ...  1.358189e+18         1.752517e+07   \n",
      "2                       False  ...  1.358201e+18         4.035766e+08   \n",
      "3                       False  ...  1.358238e+18         4.429004e+09   \n",
      "4                       False  ...           NaN                  NaN   \n",
      "\n",
      "   retweeted_handle  retweeted_follower_count mentioned_author_ids  \\\n",
      "0       briebxrries                    1002.0                  NaN   \n",
      "1           Variety                 2669599.0                  NaN   \n",
      "2       Johnnerkell                    2650.0                  NaN   \n",
      "3          PopCrave                  880695.0                  NaN   \n",
      "4               NaN                       NaN                  NaN   \n",
      "\n",
      "  mentioned_handles            hashtags urls media_keys  place_id  \n",
      "0               NaN                 NaN  NaN        NaN       NaN  \n",
      "1               NaN     ['FreeBritney']  NaN        NaN       NaN  \n",
      "2               NaN                 NaN  NaN        NaN       NaN  \n",
      "3               NaN  ['FramingBritney']  NaN        NaN       NaN  \n",
      "4               NaN                 NaN  NaN        NaN       NaN  \n",
      "\n",
      "[5 rows x 46 columns]\n"
     ]
    }
   ],
   "source": [
    "import pandas as pd\n",
    "\n",
    "file_path = '/Users/ayushyadav/Documents/Projects/POTATO/correct_twitter_202102.tsv'\n",
    "\n",
    "def read_data_in_chunks(file_path):\n",
    "    chunk_size = 10000 \n",
    "    return pd.read_csv(file_path, delimiter='\\t', chunksize=chunk_size, parse_dates=['created_at'])\n",
    "\n",
    "chunks = read_data_in_chunks(file_path)\n",
    "first_chunk = next(chunks)\n",
    "print(first_chunk.head())"
   ]
  },
  {
   "cell_type": "code",
   "execution_count": 24,
   "id": "b111b5ad-989e-4233-8bcb-dbe05f4bcfff",
   "metadata": {},
   "outputs": [
    {
     "name": "stdout",
     "output_type": "stream",
     "text": [
      "Daily Tweet Counts: {datetime.date(2021, 2, 7): 1974, datetime.date(2021, 3, 8): 395, datetime.date(2021, 3, 30): 259, datetime.date(2021, 3, 29): 220, datetime.date(2021, 3, 27): 129, datetime.date(2021, 2, 10): 1006, datetime.date(2021, 2, 2): 111, datetime.date(2021, 2, 9): 2270, datetime.date(2021, 2, 3): 67, datetime.date(2021, 3, 18): 230, datetime.date(2021, 2, 11): 630, datetime.date(2021, 2, 6): 416, datetime.date(2021, 2, 8): 2471, datetime.date(2021, 3, 25): 122, datetime.date(2021, 3, 17): 337, datetime.date(2021, 2, 1): 128, datetime.date(2021, 2, 4): 92, datetime.date(2021, 3, 10): 144, datetime.date(2021, 1, 29): 106, datetime.date(2021, 1, 28): 219, datetime.date(2021, 1, 25): 210, datetime.date(2021, 1, 23): 287, datetime.date(2021, 1, 22): 342, datetime.date(2021, 2, 25): 155, datetime.date(2021, 1, 2): 164, datetime.date(2021, 2, 19): 282, datetime.date(2021, 2, 14): 591, datetime.date(2021, 2, 17): 168, datetime.date(2021, 3, 2): 117, datetime.date(2021, 2, 28): 123, datetime.date(2021, 2, 5): 127, datetime.date(2021, 1, 7): 45, datetime.date(2021, 3, 26): 214, datetime.date(2021, 3, 21): 578, datetime.date(2021, 3, 12): 4135, datetime.date(2021, 3, 5): 2553, datetime.date(2021, 2, 27): 117, datetime.date(2021, 2, 21): 123, datetime.date(2021, 2, 20): 117, datetime.date(2021, 2, 18): 150, datetime.date(2021, 2, 13): 546, datetime.date(2021, 2, 12): 762, datetime.date(2021, 3, 22): 1127, datetime.date(2021, 3, 28): 60, datetime.date(2021, 3, 9): 203, datetime.date(2021, 2, 23): 164, datetime.date(2021, 3, 20): 182, datetime.date(2021, 3, 23): 197, datetime.date(2021, 3, 3): 492, datetime.date(2021, 3, 24): 87, datetime.date(2021, 3, 16): 142, datetime.date(2021, 3, 13): 350, datetime.date(2021, 3, 1): 79, datetime.date(2021, 3, 19): 95, datetime.date(2021, 3, 6): 261, datetime.date(2021, 3, 15): 143, datetime.date(2021, 3, 14): 189, datetime.date(2021, 3, 11): 644, datetime.date(2021, 1, 8): 136, datetime.date(2021, 1, 27): 119, datetime.date(2021, 2, 15): 184, datetime.date(2021, 3, 4): 1364, datetime.date(2021, 3, 7): 411, datetime.date(2021, 2, 24): 162, NaT: 4, datetime.date(2021, 2, 16): 196, datetime.date(2021, 2, 26): 124, datetime.date(2021, 2, 22): 100, datetime.date(2021, 1, 14): 82, datetime.date(2021, 1, 11): 50, datetime.date(2021, 1, 31): 69, datetime.date(2021, 1, 15): 102, datetime.date(2021, 1, 30): 122, datetime.date(2021, 1, 24): 121, datetime.date(2021, 1, 21): 128, datetime.date(2021, 1, 20): 59, datetime.date(2021, 1, 26): 127, datetime.date(2021, 1, 17): 97, datetime.date(2021, 1, 16): 169, datetime.date(2021, 1, 19): 49, datetime.date(2021, 1, 18): 50, datetime.date(2021, 1, 13): 177, datetime.date(2021, 1, 5): 79, datetime.date(2021, 1, 12): 96, datetime.date(2021, 1, 9): 181, datetime.date(2021, 1, 10): 77, datetime.date(2021, 1, 6): 77, datetime.date(2021, 1, 4): 103, datetime.date(2021, 1, 3): 152, datetime.date(2021, 1, 1): 60}\n",
      "Number of Unique Users: 25600\n",
      "Average Likes per Day: {datetime.date(2021, 2, 7): 20.180344478216817, datetime.date(2021, 3, 8): 25.19240506329114, datetime.date(2021, 3, 30): 9.019305019305019, datetime.date(2021, 3, 29): 15.89090909090909, datetime.date(2021, 3, 27): 2439.046511627907, datetime.date(2021, 2, 10): 2.7226640159045727, datetime.date(2021, 2, 2): 10.288288288288289, datetime.date(2021, 2, 9): 12.54625550660793, datetime.date(2021, 2, 3): 74.16417910447761, datetime.date(2021, 3, 18): 67.2304347826087, datetime.date(2021, 2, 11): 57.63809523809524, datetime.date(2021, 2, 6): 36.58413461538461, datetime.date(2021, 2, 8): 4.47753945770943, datetime.date(2021, 3, 25): 12.98360655737705, datetime.date(2021, 3, 17): 2.148367952522255, datetime.date(2021, 2, 1): 9.59375, datetime.date(2021, 2, 4): 14.391304347826088, datetime.date(2021, 3, 10): 963.5625, datetime.date(2021, 1, 29): 16.07547169811321, datetime.date(2021, 1, 28): 809.1963470319635, datetime.date(2021, 1, 25): 7.314285714285714, datetime.date(2021, 1, 23): 12.560975609756097, datetime.date(2021, 1, 22): 15.596491228070175, datetime.date(2021, 2, 25): 119.1741935483871, datetime.date(2021, 1, 2): 59.170731707317074, datetime.date(2021, 2, 19): 379.15602836879435, datetime.date(2021, 2, 14): 17.934010152284262, datetime.date(2021, 2, 17): 16.422619047619047, datetime.date(2021, 3, 2): 10.863247863247864, datetime.date(2021, 2, 28): 5.317073170731708, datetime.date(2021, 2, 5): 234.68503937007873, datetime.date(2021, 1, 7): 24.155555555555555, datetime.date(2021, 3, 26): 12.088785046728972, datetime.date(2021, 3, 21): 316.01730103806227, datetime.date(2021, 3, 12): 0.6084643288996372, datetime.date(2021, 3, 5): 6.173913043478261, datetime.date(2021, 2, 27): 3583.923076923077, datetime.date(2021, 2, 21): 106.39837398373983, datetime.date(2021, 2, 20): 970.3418803418804, datetime.date(2021, 2, 18): 20.30666666666667, datetime.date(2021, 2, 13): 21.952380952380953, datetime.date(2021, 2, 12): 60.156167979002625, datetime.date(2021, 3, 22): 3.5217391304347827, datetime.date(2021, 3, 28): 5.1, datetime.date(2021, 3, 9): 208.41871921182266, datetime.date(2021, 2, 23): 69.8780487804878, datetime.date(2021, 3, 20): 103.68131868131869, datetime.date(2021, 3, 23): 441.4111675126904, datetime.date(2021, 3, 3): 40.829268292682926, datetime.date(2021, 3, 24): 7.390804597701149, datetime.date(2021, 3, 16): 26.338028169014084, datetime.date(2021, 3, 13): 0.8742857142857143, datetime.date(2021, 3, 1): 249.51898734177215, datetime.date(2021, 3, 19): 2.9263157894736844, datetime.date(2021, 3, 6): 42.86590038314176, datetime.date(2021, 3, 15): 782.027972027972, datetime.date(2021, 3, 14): 171.68253968253967, datetime.date(2021, 3, 11): 84.53105590062111, datetime.date(2021, 1, 8): 13.022058823529411, datetime.date(2021, 1, 27): 64.73949579831933, datetime.date(2021, 2, 15): 3.483695652173913, datetime.date(2021, 3, 4): 1.310850439882698, datetime.date(2021, 3, 7): 11.29683698296837, datetime.date(2021, 2, 24): 10.055555555555555, NaT: nan, datetime.date(2021, 2, 16): 12.943877551020408, datetime.date(2021, 2, 26): 31.0, datetime.date(2021, 2, 22): 13.36, datetime.date(2021, 1, 14): 17.48780487804878, datetime.date(2021, 1, 11): 10841.8, datetime.date(2021, 1, 31): 204.84057971014494, datetime.date(2021, 1, 15): 40.19607843137255, datetime.date(2021, 1, 30): 86.13934426229508, datetime.date(2021, 1, 24): 5.785123966942149, datetime.date(2021, 1, 21): 99.1328125, datetime.date(2021, 1, 20): 465.20338983050846, datetime.date(2021, 1, 26): 100.0, datetime.date(2021, 1, 17): 10.525773195876289, datetime.date(2021, 1, 16): 46.887573964497044, datetime.date(2021, 1, 19): 12.775510204081632, datetime.date(2021, 1, 18): 1176.86, datetime.date(2021, 1, 13): 210.01129943502823, datetime.date(2021, 1, 5): 114.50632911392405, datetime.date(2021, 1, 12): 82.91666666666667, datetime.date(2021, 1, 9): 3.088397790055249, datetime.date(2021, 1, 10): 839.4155844155844, datetime.date(2021, 1, 6): 11.415584415584416, datetime.date(2021, 1, 4): 74.16504854368932, datetime.date(2021, 1, 3): 60.61184210526316, datetime.date(2021, 1, 1): 79.85}\n",
      "Places IDs from where Tweets Originated: {'3b77caf94bfc81fe', 'ea679934779f45c7', '3f871475c095f94f', 'e81d7291bd2ba45e', '002e24c6736f069d', '02f09c87dcbecdb5', 'dce44ec49eb788f5', 'b2e39072b9847c46', 'e4a0d228eb6be76b', 'c355c3620352b971', '0a7dc9891a02c366', '4dad272dba156a02', '5d058f2e9fe1516c', '70392b0b6ad1f95b', 'dd3b100831dd1763', '5c2b5e46ab891f07', 'c0b8e8dc81930292', 'c184b698ed4cd4fc', '5f73d127c7ccf9d9', '19ad277db0586bb7', '011a05612b6a331c', '5a110d312052166f', 'a592bd6ceb1319f7', '7dde0febc9ef245b', 'c8022ca5114d7ea9', '68482982f9baf37a', '2335250557ea3fb4', 'fbd6d2f5a4e4a15e', '9807c5c5f7a2c6ce', '0112bdb03ace5ee9', '62619a76134ad05e', 'fa8e38be72982a5a', '7dea5f8c907d1ea2', '1d9a5370a355ab0c', '0973e42f69d07b84', 'dc234665a759a05d', '005de1fe214f002d', 'f5b2e1c998aab0b5', '0509a6acb3d27ec4', 'd2981a0f3d8eddd7', '7cb7440bcf83d464', '53504716d445dcad', '5722ff20ba67083b', 'b49b3053b5c25bf5', '01fbe706f872cb32', '3448f4f82d2187bc', '9c1c0a45346f5837', '67687709552688fe', '00dba980404fa58a', '3b98b02fba3f9753', 'a84b808ce3f11719', '75965f8c6ee9a4b0', 'efb544e303ed138c', '1ef1183ed7056dc1', '48ad377ff2ff9e51', 'fbcefe96d630085b', '6e276f099bcab5b5', '174309ec90de94d0', '016ea1445db12efb', '01864a8a64df9dc4', '38d5974e82ed1a6c', '01a9a39529b27f36', '8004d2bebcc13e8c', '8173485c72e78ca5', '25ddf20e1bfb00ea', 'ad815dfe8c34a012', '011add077f4d2da3', 'a612c69b44b2e5da', 'd13775d10c08f835', '1df98ab7679917e7', '4ec01c9dbc693497', '4393349f368f67a1', 'fa3435044b52ecc7', '92e012db736d72c5', '59612bd882018c51', '5c62ffb0f0f3479d', '300bcc6e23a88361'}\n",
      "Tweet Counts by Hour of Day: {7: 735, 13: 1179, 4: 1241, 6: 849, 2: 1437, 1: 1508, 14: 1279, 15: 1765, 18: 1484, 12: 1082, 10: 817, 17: 1725, 0: 1569, 23: 1793, 5: 1088, 21: 1718, 3: 1270, 16: 1834, 20: 1773, 22: 1965, 19: 1414, 11: 951, 9: 1034, 8: 1160, nan: 4}\n",
      "Top User by Tweet Count: 118301422\n"
     ]
    }
   ],
   "source": [
    "import pandas as pd\n",
    "from collections import defaultdict\n",
    "import numpy as np\n",
    "\n",
    "file_path = '/Users/ayushyadav/Documents/Projects/POTATO/correct_twitter_202102.tsv'\n",
    "\n",
    "def process_data(file_path):\n",
    "    chunk_size = 10000\n",
    "    daily_tweet_counts = defaultdict(int)\n",
    "    unique_users = set()\n",
    "    daily_likes = defaultdict(list)\n",
    "    places = set()\n",
    "    times_of_day = defaultdict(int)\n",
    "    user_tweet_counts = defaultdict(int)\n",
    "\n",
    "    for chunk in pd.read_csv(file_path, delimiter='\\t', chunksize=chunk_size):\n",
    "        chunk['created_at'] = pd.to_datetime(chunk['created_at'], errors='coerce', utc=True)\n",
    "        \n",
    "        if chunk['created_at'].dtype == 'datetime64[ns, UTC]':\n",
    "            music_tweets = chunk[chunk['text'].str.contains('music', case=False, na=False)]\n",
    "            \n",
    "            if not music_tweets.empty:\n",
    "                for _, tweet in music_tweets.iterrows():\n",
    "                    date = tweet['created_at'].date()  # Convert UTC datetime to date\n",
    "                    daily_tweet_counts[date] += 1\n",
    "                    unique_users.add(tweet['author_id'])\n",
    "                    daily_likes[date].append(tweet['like_count'])\n",
    "                    if pd.notna(tweet['place_id']):\n",
    "                        places.add(tweet['place_id'])\n",
    "                    hour = tweet['created_at'].hour\n",
    "                    times_of_day[hour] += 1\n",
    "                    user_tweet_counts[tweet['author_id']] += 1\n",
    "\n",
    "    # Print results\n",
    "    print('Daily Tweet Counts:', dict(daily_tweet_counts))\n",
    "    print('Number of Unique Users:', len(unique_users))\n",
    "    print('Average Likes per Day:', {day: np.mean(likes) for day, likes in daily_likes.items() if likes})\n",
    "    print('Places IDs from where Tweets Originated:', places)\n",
    "    print('Tweet Counts by Hour of Day:', dict(times_of_day))\n",
    "    print('Top User by Tweet Count:', max(user_tweet_counts, key=user_tweet_counts.get))\n",
    "\n",
    "process_data(file_path)"
   ]
  },
  {
   "cell_type": "code",
   "execution_count": null,
   "id": "f2a655d7-0dc4-43e8-addc-b15e28e67f23",
   "metadata": {},
   "outputs": [],
   "source": []
  },
  {
   "cell_type": "code",
   "execution_count": null,
   "id": "9c1988d1-7184-4733-befa-fe676b2a5097",
   "metadata": {},
   "outputs": [],
   "source": []
  }
 ],
 "metadata": {
  "kernelspec": {
   "display_name": "Python 3 (ipykernel)",
   "language": "python",
   "name": "python3"
  },
  "language_info": {
   "codemirror_mode": {
    "name": "ipython",
    "version": 3
   },
   "file_extension": ".py",
   "mimetype": "text/x-python",
   "name": "python",
   "nbconvert_exporter": "python",
   "pygments_lexer": "ipython3",
   "version": "3.12.4"
  }
 },
 "nbformat": 4,
 "nbformat_minor": 5
}
